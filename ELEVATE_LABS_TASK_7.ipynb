{
  "nbformat": 4,
  "nbformat_minor": 0,
  "metadata": {
    "colab": {
      "provenance": []
    },
    "kernelspec": {
      "name": "python3",
      "display_name": "Python 3"
    },
    "language_info": {
      "name": "python"
    }
  },
  "cells": [
    {
      "cell_type": "code",
      "execution_count": 4,
      "metadata": {
        "colab": {
          "base_uri": "https://localhost:8080/"
        },
        "id": "czTNmGIxsqWG",
        "outputId": "be0b7785-f20c-4757-866a-832b9b40112c"
      },
      "outputs": [
        {
          "output_type": "stream",
          "name": "stdout",
          "text": [
            " Sample data inserted into 'sales' table successfully.\n"
          ]
        }
      ],
      "source": [
        "import sqlite3\n",
        "\n",
        "# Connect to the SQLite database\n",
        "conn = sqlite3.connect(\"sales_data.db\")\n",
        "cursor = conn.cursor()\n",
        "\n",
        "# Create the table\n",
        "cursor.execute('''\n",
        "    CREATE TABLE IF NOT EXISTS sales (\n",
        "        id INTEGER PRIMARY KEY AUTOINCREMENT,\n",
        "        product_name TEXT NOT NULL,\n",
        "        quantity INTEGER NOT NULL,\n",
        "        price REAL NOT NULL,\n",
        "        sale_date TEXT NOT NULL\n",
        "    )\n",
        "''')\n",
        "\n",
        "# Sample data to insert\n",
        "sample_data = [\n",
        "    (\"Laptop\", 2, 75000.00, \"2025-04-01\"),\n",
        "    (\"Keyboard\", 5, 1500.00, \"2025-04-02\"),\n",
        "    (\"Mouse\", 3, 800.00, \"2025-04-03\"),\n",
        "    (\"Monitor\", 1, 12000.00, \"2025-04-03\"),\n",
        "    (\"Headphones\", 4, 2500.00, \"2025-04-04\")\n",
        "]\n",
        "\n",
        "# Insert sample data\n",
        "cursor.executemany('''\n",
        "    INSERT INTO sales (product_name, quantity, price, sale_date)\n",
        "    VALUES (?, ?, ?, ?)\n",
        "''', sample_data)\n",
        "\n",
        "# Commit and close\n",
        "conn.commit()\n",
        "\n",
        "\n",
        "print(\" Sample data inserted into 'sales' table successfully.\")\n"
      ]
    },
    {
      "cell_type": "code",
      "source": [
        "print(sample_data)"
      ],
      "metadata": {
        "colab": {
          "base_uri": "https://localhost:8080/"
        },
        "id": "k7l0RUevs6S_",
        "outputId": "10f13441-f1ff-4fb7-bd9f-154416f1ece3"
      },
      "execution_count": 2,
      "outputs": [
        {
          "output_type": "stream",
          "name": "stdout",
          "text": [
            "[('Laptop', 2, 75000.0, '2025-04-01'), ('Keyboard', 5, 1500.0, '2025-04-02'), ('Mouse', 3, 800.0, '2025-04-03'), ('Monitor', 1, 12000.0, '2025-04-03'), ('Headphones', 4, 2500.0, '2025-04-04')]\n"
          ]
        }
      ]
    },
    {
      "cell_type": "markdown",
      "source": [
        "**Show all records from the sales table**"
      ],
      "metadata": {
        "id": "6q-l7gm8uG91"
      }
    },
    {
      "cell_type": "code",
      "source": [
        "cursor.execute(\"SELECT * FROM sales\")\n",
        "rows = cursor.fetchall()\n",
        "print(\"All Sales Records:\")\n",
        "for row in rows:\n",
        "    print(row)"
      ],
      "metadata": {
        "colab": {
          "base_uri": "https://localhost:8080/"
        },
        "id": "dDOp9goduJK-",
        "outputId": "d0719f2d-60d8-463d-c919-17b9bf39a4e0"
      },
      "execution_count": 5,
      "outputs": [
        {
          "output_type": "stream",
          "name": "stdout",
          "text": [
            "All Sales Records:\n",
            "(1, 'Laptop', 2, 75000.0, '2025-04-01')\n",
            "(2, 'Keyboard', 5, 1500.0, '2025-04-02')\n",
            "(3, 'Mouse', 3, 800.0, '2025-04-03')\n",
            "(4, 'Monitor', 1, 12000.0, '2025-04-03')\n",
            "(5, 'Headphones', 4, 2500.0, '2025-04-04')\n",
            "(6, 'Laptop', 2, 75000.0, '2025-04-01')\n",
            "(7, 'Keyboard', 5, 1500.0, '2025-04-02')\n",
            "(8, 'Mouse', 3, 800.0, '2025-04-03')\n",
            "(9, 'Monitor', 1, 12000.0, '2025-04-03')\n",
            "(10, 'Headphones', 4, 2500.0, '2025-04-04')\n"
          ]
        }
      ]
    },
    {
      "cell_type": "markdown",
      "source": [
        "Total revenue generated (price × quantity for each row)\n",
        "\n"
      ],
      "metadata": {
        "id": "sQuPICSzurK0"
      }
    },
    {
      "cell_type": "code",
      "source": [
        "cursor.execute(\"SELECT SUM(price * quantity) AS total_revenue FROM sales\")\n",
        "total = cursor.fetchone()\n",
        "print(\"\\nTotal Revenue:\", total[0])\n"
      ],
      "metadata": {
        "colab": {
          "base_uri": "https://localhost:8080/"
        },
        "id": "cyAQYoCLxydc",
        "outputId": "f5bf3688-3aa0-431c-f55f-376c8168b17c"
      },
      "execution_count": 6,
      "outputs": [
        {
          "output_type": "stream",
          "name": "stdout",
          "text": [
            "\n",
            "Total Revenue: 363800.0\n"
          ]
        }
      ]
    },
    {
      "cell_type": "markdown",
      "source": [
        "Group by product and show total quantity sold per product"
      ],
      "metadata": {
        "id": "EVxH3J6Iysix"
      }
    },
    {
      "cell_type": "code",
      "source": [
        "cursor.execute(\"\"\"\n",
        "    SELECT product_name, SUM(quantity) AS total_quantity\n",
        "    FROM sales\n",
        "    GROUP BY product_name\n",
        "\"\"\")\n",
        "grouped = cursor.fetchall()\n",
        "print(\"\\nTotal Quantity Sold per Product:\")\n",
        "for row in grouped:\n",
        "    print(row)\n"
      ],
      "metadata": {
        "colab": {
          "base_uri": "https://localhost:8080/"
        },
        "id": "0EayaZH5ytZd",
        "outputId": "49535196-d458-4c90-ffd8-7d5db1accadb"
      },
      "execution_count": 10,
      "outputs": [
        {
          "output_type": "stream",
          "name": "stdout",
          "text": [
            "\n",
            "Total Quantity Sold per Product:\n",
            "('Headphones', 8)\n",
            "('Keyboard', 10)\n",
            "('Laptop', 4)\n",
            "('Monitor', 2)\n",
            "('Mouse', 6)\n"
          ]
        }
      ]
    },
    {
      "cell_type": "markdown",
      "source": [
        "Bar Chart: Total Quantity Sold per Product"
      ],
      "metadata": {
        "id": "5MkGQT5tzYCT"
      }
    },
    {
      "cell_type": "code",
      "source": [
        "import matplotlib.pyplot as plt\n",
        "\n",
        "\n",
        "# Query to get total quantity sold per product\n",
        "cursor.execute(\"\"\"\n",
        "    SELECT product_name, SUM(quantity) AS total_quantity\n",
        "    FROM sales\n",
        "    GROUP BY product_name\n",
        "\"\"\")\n",
        "results = cursor.fetchall()\n",
        "\n",
        "# Separate data for plotting\n",
        "products = [row[0] for row in results]\n",
        "quantities = [row[1] for row in results]\n",
        "\n",
        "# Plot the bar chart\n",
        "plt.figure(figsize=(8, 5))\n",
        "plt.bar(products, quantities)\n",
        "plt.xlabel(\"Product\")\n",
        "plt.ylabel(\"Total Quantity Sold\")\n",
        "plt.title(\"Total Quantity Sold per Product\")\n",
        "plt.grid(axis='y', linestyle='--', alpha=0.7)\n",
        "plt.tight_layout()\n",
        "plt.show()\n",
        "\n",
        "# Close connection\n",
        "conn.close()\n"
      ],
      "metadata": {
        "colab": {
          "base_uri": "https://localhost:8080/",
          "height": 507
        },
        "id": "UeZ9JlXuzY6E",
        "outputId": "3bfda267-2255-4575-a794-f369558d65af"
      },
      "execution_count": 11,
      "outputs": [
        {
          "output_type": "display_data",
          "data": {
            "text/plain": [
              "<Figure size 800x500 with 1 Axes>"
            ],
            "image/png": "[encoded data removed]"
          },
          "metadata": {}
        }
      ]
    }
  ]
}